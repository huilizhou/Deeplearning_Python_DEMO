{
 "cells": [
  {
   "cell_type": "code",
   "execution_count": 1,
   "metadata": {
    "collapsed": true
   },
   "outputs": [],
   "source": [
    "import sys\n",
    "from PyQt5.QtWidgets import QApplication,QWidget,QPushButton"
   ]
  },
  {
   "cell_type": "code",
   "execution_count": 2,
   "metadata": {
    "collapsed": true
   },
   "outputs": [],
   "source": [
    "class Demo(QWidget):\n",
    "    def __init__(self):\n",
    "        super(Demo,self).__init__()\n",
    "        self.resize(300,300)\n",
    "        self.setWindowTitle('demo')\n",
    "        self.button.clicked.connect(self.change_text)\n",
    "        self.button.clicked.connect(self.change_window_size)\n",
    "        self.button.clicked.connect(self.change_window_title)\n",
    "        \n",
    "    def change_text(self):\n",
    "        print('change text')\n",
    "        self.button.setText(\"Stop\")\n",
    "        self.button.clicked.disconnect(self.change_text)\n",
    "    def change_window_size(self):                               # 5\n",
    "        print('change window size')\n",
    "        self.resize(500, 500)\n",
    "        self.button.clicked.disconnect(self.change_window_size)\n",
    "    def change_window_title(self):                              # 6\n",
    "        print('change window title')\n",
    "        self.setWindowTitle('window title changed')\n",
    "        self.button.clicked.disconnect(self.change_window_title)\n",
    "\n"
   ]
  },
  {
   "cell_type": "code",
   "execution_count": null,
   "metadata": {
    "collapsed": true
   },
   "outputs": [],
   "source": [
    "\n",
    "if __name__ == '__main__':\n",
    "    app = QApplication(sys.argv)\n",
    "    demo = Demo()                                               \n",
    "    demo.show()    \n",
    "    sys.exit(app.exec_())"
   ]
  }
 ],
 "metadata": {
  "kernelspec": {
   "display_name": "Python 3",
   "language": "python",
   "name": "python3"
  },
  "language_info": {
   "codemirror_mode": {
    "name": "ipython",
    "version": 3
   },
   "file_extension": ".py",
   "mimetype": "text/x-python",
   "name": "python",
   "nbconvert_exporter": "python",
   "pygments_lexer": "ipython3",
   "version": "3.6.3"
  }
 },
 "nbformat": 4,
 "nbformat_minor": 2
}
