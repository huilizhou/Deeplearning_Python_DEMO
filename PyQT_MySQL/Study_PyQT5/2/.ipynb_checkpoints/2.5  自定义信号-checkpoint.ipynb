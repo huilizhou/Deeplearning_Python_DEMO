{
 "cells": [
  {
   "cell_type": "code",
   "execution_count": 1,
   "metadata": {
    "collapsed": true
   },
   "outputs": [],
   "source": [
    "import sys\n",
    "from PyQt5.QtCore import pyqtSignal\n",
    "from PyQt5.QtWidgets import QApplication,QWidget,QLabel"
   ]
  },
  {
   "cell_type": "code",
   "execution_count": 2,
   "metadata": {
    "collapsed": true
   },
   "outputs": [],
   "source": [
    "class Demo(QWidget):\n",
    "    my_signal=pyqtSignal()\n",
    "    \n",
    "    def __init__(self):\n",
    "        super(Demo,self).__init__()\n",
    "        self.label=QLabel(\"Hello world\",self)\n",
    "        self.my_signal.connect(self.change_text)\n",
    "        \n",
    "    def change_text(self):\n",
    "        if self.label.text()==\"Hello World\":\n",
    "            self.label.setText(\"Hello PyQt5\")\n",
    "        else:\n",
    "            self.label.setText(\"Hello World\")\n",
    "            \n",
    "    def mousePressEvent(self,QMouseEvent):\n",
    "            self.my_signal.emit()\n",
    "            \n",
    "            "
   ]
  },
  {
   "cell_type": "code",
   "execution_count": 3,
   "metadata": {
    "collapsed": true
   },
   "outputs": [],
   "source": [
    "if __name__==\"__main___\":\n",
    "    app=QApplication(sys.argv)\n",
    "    demo=Demo()\n",
    "    demo.show()\n",
    "    sys.exit(app.exec_())\n",
    "    "
   ]
  },
  {
   "cell_type": "code",
   "execution_count": 4,
   "metadata": {
    "collapsed": true
   },
   "outputs": [],
   "source": [
    "def f(n):\n",
    "    if n==1 or n==0:\n",
    "        return 1\n",
    "    return f(n-1)+f(n-2)"
   ]
  },
  {
   "cell_type": "code",
   "execution_count": 5,
   "metadata": {},
   "outputs": [
    {
     "data": {
      "text/plain": [
       "8"
      ]
     },
     "execution_count": 5,
     "metadata": {},
     "output_type": "execute_result"
    }
   ],
   "source": [
    "f(5)"
   ]
  },
  {
   "cell_type": "code",
   "execution_count": null,
   "metadata": {
    "collapsed": true
   },
   "outputs": [],
   "source": [
    "def f(n):\n",
    "    if n==1:\n",
    "        return 1\n",
    "    return n*f(n-1)"
   ]
  }
 ],
 "metadata": {
  "kernelspec": {
   "display_name": "Python 3",
   "language": "python",
   "name": "python3"
  },
  "language_info": {
   "codemirror_mode": {
    "name": "ipython",
    "version": 3
   },
   "file_extension": ".py",
   "mimetype": "text/x-python",
   "name": "python",
   "nbconvert_exporter": "python",
   "pygments_lexer": "ipython3",
   "version": "3.6.3"
  }
 },
 "nbformat": 4,
 "nbformat_minor": 2
}
